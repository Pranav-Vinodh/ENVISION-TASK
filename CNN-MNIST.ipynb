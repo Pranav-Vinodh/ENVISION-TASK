{
 "cells": [
  {
   "cell_type": "code",
   "execution_count": 34,
   "metadata": {},
   "outputs": [],
   "source": [
    "import pandas as pd\n",
    "import numpy as np\n",
    "import matplotlib as mplt\n",
    "import keras \n",
    "\n",
    "from keras.preprocessing.image import ImageDataGenerator\n",
    "from keras.utils import to_categorical\n",
    "from keras.models import Sequential, load_model\n",
    "from keras.layers import Dense, Dropout, Flatten\n",
    "from keras.layers import Conv2D, MaxPooling2D, BatchNormalization\n",
    "from keras.optimizers import Adam\n",
    "from keras.callbacks import LearningRateScheduler\n",
    "from keras.callbacks import EarlyStopping"
   ]
  },
  {
   "cell_type": "code",
   "execution_count": 35,
   "metadata": {},
   "outputs": [],
   "source": [
    "test_data = pd.read_csv(\"test.csv\")\n",
    "train_data = pd.read_csv(\"train.csv\")"
   ]
  },
  {
   "cell_type": "code",
   "execution_count": 36,
   "metadata": {},
   "outputs": [],
   "source": [
    "x = train_data.iloc[:,1:]\n",
    "y = train_data.iloc[:,0]"
   ]
  },
  {
   "cell_type": "code",
   "execution_count": 37,
   "metadata": {},
   "outputs": [],
   "source": [
    "from sklearn.model_selection import train_test_split\n",
    "x_train , x_test , y_train , y_test =  train_test_split(x,y,test_size=0.1)"
   ]
  },
  {
   "cell_type": "code",
   "execution_count": 38,
   "metadata": {},
   "outputs": [],
   "source": [
    "x_train = x_train.values.reshape(-1,28,28,1)\n",
    "x_test = x_test.values.reshape(-1,28,28,1)"
   ]
  },
  {
   "cell_type": "code",
   "execution_count": 39,
   "metadata": {},
   "outputs": [],
   "source": [
    "\n",
    "datagen = ImageDataGenerator(\n",
    "            featurewise_center=False,  # set input mean to 0 over the dataset\n",
    "            samplewise_center=False,  # set each sample mean to 0\n",
    "            featurewise_std_normalization=False,  # divide inputs by std of the dataset\n",
    "            samplewise_std_normalization=False,  # divide each input by its std\n",
    "            zca_whitening=False,  # apply ZCA whitening\n",
    "            rotation_range=10,  # randomly rotate images in the range (degrees, 0 to 180)\n",
    "            zoom_range = 0.1, # Randomly zoom image \n",
    "            width_shift_range=0.1,  # randomly shift images horizontally (fraction of total width)\n",
    "            height_shift_range=0.1,  # randomly shift images vertically (fraction of total height)\n",
    "            horizontal_flip=False,  # randomly flip images\n",
    "            vertical_flip=False)  # randomly flip images"
   ]
  },
  {
   "cell_type": "code",
   "execution_count": 40,
   "metadata": {},
   "outputs": [],
   "source": [
    "x_train = x_train.astype(\"float32\")/255\n",
    "x_test = x_test.astype(\"float32\")/255\n",
    "datagen.fit(x_train)"
   ]
  },
  {
   "cell_type": "code",
   "execution_count": 41,
   "metadata": {},
   "outputs": [],
   "source": [
    "y_train = to_categorical(y_train, num_classes=10)\n",
    "y_test = to_categorical(y_test, num_classes=10)"
   ]
  },
  {
   "cell_type": "code",
   "execution_count": 42,
   "metadata": {},
   "outputs": [],
   "source": [
    "\n",
    "model = Sequential()\n",
    "model.add(Conv2D(filters = 32,activation='relu',strides=1,padding = 'same', kernel_size=(3,3),data_format='channels_last',input_shape =(28,28,1)))\n",
    "model.add(BatchNormalization())\n",
    "model.add(Conv2D(filters = 32,activation='relu',strides=1,padding='same',kernel_size=(3,3),data_format='channels_last'))\n",
    "model.add(BatchNormalization())\n",
    "model.add(MaxPooling2D(strides=2,pool_size=(2,2),padding='valid'))\n",
    "model.add(Dropout(0.25))          \n",
    "\n",
    "model.add(Conv2D(filters = 64,activation = 'relu',strides=1,padding='same',kernel_size=(3,3),data_format='channels_last'))\n",
    "model.add(BatchNormalization())\n",
    "model.add(Conv2D(filters = 64,activation = 'relu',strides=1,padding='same',kernel_size=(3,3),data_format='channels_last'))\n",
    "model.add(BatchNormalization())\n",
    "model.add(MaxPooling2D(strides=2,pool_size=(2,2),padding='valid'))\n",
    "model.add(Dropout(0.25))\n",
    "\n",
    "model.add(Flatten())\n",
    "model.add(Dense(512,activation='relu'))\n",
    "model.add(BatchNormalization())\n",
    "model.add(Dropout(0.25))\n",
    "model.add(Dense(1024,activation='relu'))\n",
    "model.add(BatchNormalization())\n",
    "model.add(Dropout(0.5))\n",
    "model.add(Dense(10,activation='softmax'))"
   ]
  },
  {
   "cell_type": "code",
   "execution_count": 43,
   "metadata": {},
   "outputs": [],
   "source": [
    "optimizer = Adam(learning_rate=0.001, beta_1=0.9, beta_2=0.999 )"
   ]
  },
  {
   "cell_type": "code",
   "execution_count": 44,
   "metadata": {},
   "outputs": [],
   "source": [
    "model.compile(optimizer=optimizer,loss=\"categorical_crossentropy\",metrics=[\"accuracy\"])"
   ]
  },
  {
   "cell_type": "code",
   "execution_count": 45,
   "metadata": {},
   "outputs": [],
   "source": [
    "reduce_lr = LearningRateScheduler(lambda x: 1e-3 * 0.9 ** x)"
   ]
  },
  {
   "cell_type": "code",
   "execution_count": 46,
   "metadata": {},
   "outputs": [
    {
     "name": "stdout",
     "output_type": "stream",
     "text": [
      "Epoch 1/50\n",
      "590/590 [==============================] - 32s 50ms/step - loss: 0.3787 - accuracy: 0.8882 - val_loss: 0.0810 - val_accuracy: 0.9743 - lr: 0.0010\n",
      "Epoch 2/50\n",
      "590/590 [==============================] - 29s 50ms/step - loss: 0.1295 - accuracy: 0.9605 - val_loss: 0.0471 - val_accuracy: 0.9871 - lr: 9.0000e-04\n",
      "Epoch 3/50\n",
      "590/590 [==============================] - 30s 50ms/step - loss: 0.0977 - accuracy: 0.9710 - val_loss: 0.0377 - val_accuracy: 0.9900 - lr: 8.1000e-04\n",
      "Epoch 4/50\n",
      "590/590 [==============================] - 33s 56ms/step - loss: 0.0752 - accuracy: 0.9777 - val_loss: 0.0374 - val_accuracy: 0.9895 - lr: 7.2900e-04\n",
      "Epoch 5/50\n",
      "590/590 [==============================] - 30s 50ms/step - loss: 0.0690 - accuracy: 0.9780 - val_loss: 0.0294 - val_accuracy: 0.9905 - lr: 6.5610e-04\n",
      "Epoch 6/50\n",
      "590/590 [==============================] - 30s 50ms/step - loss: 0.0606 - accuracy: 0.9817 - val_loss: 0.0413 - val_accuracy: 0.9883 - lr: 5.9049e-04\n",
      "Epoch 7/50\n",
      "590/590 [==============================] - 30s 51ms/step - loss: 0.0573 - accuracy: 0.9831 - val_loss: 0.0257 - val_accuracy: 0.9919 - lr: 5.3144e-04\n",
      "Epoch 8/50\n",
      "590/590 [==============================] - 33s 55ms/step - loss: 0.0533 - accuracy: 0.9843 - val_loss: 0.0234 - val_accuracy: 0.9936 - lr: 4.7830e-04\n",
      "Epoch 9/50\n",
      "590/590 [==============================] - 30s 51ms/step - loss: 0.0472 - accuracy: 0.9856 - val_loss: 0.0216 - val_accuracy: 0.9931 - lr: 4.3047e-04\n",
      "Epoch 10/50\n",
      "590/590 [==============================] - 30s 51ms/step - loss: 0.0422 - accuracy: 0.9866 - val_loss: 0.0241 - val_accuracy: 0.9940 - lr: 3.8742e-04\n",
      "Epoch 11/50\n",
      "590/590 [==============================] - 29s 49ms/step - loss: 0.0404 - accuracy: 0.9877 - val_loss: 0.0210 - val_accuracy: 0.9945 - lr: 3.4868e-04\n",
      "Epoch 12/50\n",
      "590/590 [==============================] - 29s 49ms/step - loss: 0.0353 - accuracy: 0.9894 - val_loss: 0.0233 - val_accuracy: 0.9931 - lr: 3.1381e-04\n",
      "Epoch 13/50\n",
      "590/590 [==============================] - 30s 50ms/step - loss: 0.0332 - accuracy: 0.9893 - val_loss: 0.0201 - val_accuracy: 0.9938 - lr: 2.8243e-04\n",
      "Epoch 14/50\n",
      "590/590 [==============================] - 30s 50ms/step - loss: 0.0307 - accuracy: 0.9909 - val_loss: 0.0241 - val_accuracy: 0.9936 - lr: 2.5419e-04\n",
      "Epoch 15/50\n",
      "590/590 [==============================] - 30s 50ms/step - loss: 0.0290 - accuracy: 0.9915 - val_loss: 0.0178 - val_accuracy: 0.9943 - lr: 2.2877e-04\n",
      "Epoch 16/50\n",
      "590/590 [==============================] - 30s 50ms/step - loss: 0.0294 - accuracy: 0.9911 - val_loss: 0.0220 - val_accuracy: 0.9945 - lr: 2.0589e-04\n",
      "Epoch 17/50\n",
      "590/590 [==============================] - 30s 50ms/step - loss: 0.0281 - accuracy: 0.9918 - val_loss: 0.0166 - val_accuracy: 0.9950 - lr: 1.8530e-04\n",
      "Epoch 18/50\n",
      "590/590 [==============================] - 30s 51ms/step - loss: 0.0250 - accuracy: 0.9922 - val_loss: 0.0194 - val_accuracy: 0.9960 - lr: 1.6677e-04\n",
      "Epoch 19/50\n",
      "590/590 [==============================] - 30s 51ms/step - loss: 0.0215 - accuracy: 0.9933 - val_loss: 0.0164 - val_accuracy: 0.9950 - lr: 1.5009e-04\n",
      "Epoch 20/50\n",
      "590/590 [==============================] - 30s 51ms/step - loss: 0.0214 - accuracy: 0.9936 - val_loss: 0.0167 - val_accuracy: 0.9957 - lr: 1.3509e-04\n",
      "Epoch 21/50\n",
      "590/590 [==============================] - 30s 52ms/step - loss: 0.0214 - accuracy: 0.9937 - val_loss: 0.0166 - val_accuracy: 0.9962 - lr: 1.2158e-04\n",
      "Epoch 22/50\n",
      "590/590 [==============================] - 33s 56ms/step - loss: 0.0209 - accuracy: 0.9936 - val_loss: 0.0153 - val_accuracy: 0.9964 - lr: 1.0942e-04\n",
      "Epoch 23/50\n",
      "590/590 [==============================] - 32s 54ms/step - loss: 0.0193 - accuracy: 0.9942 - val_loss: 0.0166 - val_accuracy: 0.9964 - lr: 9.8477e-05\n",
      "Epoch 24/50\n",
      "590/590 [==============================] - 32s 53ms/step - loss: 0.0191 - accuracy: 0.9939 - val_loss: 0.0161 - val_accuracy: 0.9964 - lr: 8.8629e-05\n",
      "Epoch 25/50\n",
      "590/590 [==============================] - 31s 53ms/step - loss: 0.0164 - accuracy: 0.9945 - val_loss: 0.0160 - val_accuracy: 0.9962 - lr: 7.9766e-05\n",
      "Epoch 26/50\n",
      "590/590 [==============================] - 32s 53ms/step - loss: 0.0187 - accuracy: 0.9943 - val_loss: 0.0141 - val_accuracy: 0.9967 - lr: 7.1790e-05\n",
      "Epoch 27/50\n",
      "590/590 [==============================] - 32s 54ms/step - loss: 0.0156 - accuracy: 0.9951 - val_loss: 0.0157 - val_accuracy: 0.9969 - lr: 6.4611e-05\n",
      "Epoch 28/50\n",
      "590/590 [==============================] - 34s 57ms/step - loss: 0.0168 - accuracy: 0.9943 - val_loss: 0.0149 - val_accuracy: 0.9960 - lr: 5.8150e-05\n",
      "Epoch 29/50\n",
      "590/590 [==============================] - 35s 60ms/step - loss: 0.0147 - accuracy: 0.9950 - val_loss: 0.0162 - val_accuracy: 0.9964 - lr: 5.2335e-05\n",
      "Epoch 30/50\n",
      "590/590 [==============================] - 36s 61ms/step - loss: 0.0146 - accuracy: 0.9953 - val_loss: 0.0155 - val_accuracy: 0.9964 - lr: 4.7101e-05\n",
      "Epoch 31/50\n",
      "590/590 [==============================] - 36s 61ms/step - loss: 0.0156 - accuracy: 0.9953 - val_loss: 0.0158 - val_accuracy: 0.9964 - lr: 4.2391e-05\n",
      "Epoch 32/50\n",
      "590/590 [==============================] - 36s 61ms/step - loss: 0.0148 - accuracy: 0.9954 - val_loss: 0.0162 - val_accuracy: 0.9967 - lr: 3.8152e-05\n",
      "Epoch 33/50\n",
      "590/590 [==============================] - 36s 61ms/step - loss: 0.0148 - accuracy: 0.9950 - val_loss: 0.0160 - val_accuracy: 0.9967 - lr: 3.4337e-05\n",
      "Epoch 34/50\n",
      "590/590 [==============================] - 36s 61ms/step - loss: 0.0159 - accuracy: 0.9949 - val_loss: 0.0160 - val_accuracy: 0.9967 - lr: 3.0903e-05\n",
      "Epoch 35/50\n",
      "590/590 [==============================] - 36s 61ms/step - loss: 0.0142 - accuracy: 0.9953 - val_loss: 0.0167 - val_accuracy: 0.9967 - lr: 2.7813e-05\n",
      "Epoch 36/50\n",
      "590/590 [==============================] - 36s 61ms/step - loss: 0.0134 - accuracy: 0.9956 - val_loss: 0.0173 - val_accuracy: 0.9969 - lr: 2.5032e-05\n",
      "Epoch 37/50\n",
      "590/590 [==============================] - 33s 56ms/step - loss: 0.0133 - accuracy: 0.9957 - val_loss: 0.0167 - val_accuracy: 0.9969 - lr: 2.2528e-05\n",
      "Epoch 38/50\n",
      "590/590 [==============================] - 31s 53ms/step - loss: 0.0132 - accuracy: 0.9958 - val_loss: 0.0167 - val_accuracy: 0.9967 - lr: 2.0276e-05\n",
      "Epoch 39/50\n",
      "590/590 [==============================] - 30s 51ms/step - loss: 0.0139 - accuracy: 0.9957 - val_loss: 0.0165 - val_accuracy: 0.9967 - lr: 1.8248e-05\n",
      "Epoch 40/50\n",
      "590/590 [==============================] - 30s 51ms/step - loss: 0.0119 - accuracy: 0.9964 - val_loss: 0.0168 - val_accuracy: 0.9967 - lr: 1.6423e-05\n",
      "Epoch 41/50\n",
      "590/590 [==============================] - 30s 51ms/step - loss: 0.0140 - accuracy: 0.9951 - val_loss: 0.0164 - val_accuracy: 0.9967 - lr: 1.4781e-05\n",
      "Epoch 42/50\n",
      "590/590 [==============================] - 30s 50ms/step - loss: 0.0137 - accuracy: 0.9959 - val_loss: 0.0164 - val_accuracy: 0.9967 - lr: 1.3303e-05\n",
      "Epoch 43/50\n",
      "590/590 [==============================] - 31s 53ms/step - loss: 0.0126 - accuracy: 0.9962 - val_loss: 0.0159 - val_accuracy: 0.9967 - lr: 1.1973e-05\n",
      "Epoch 44/50\n",
      "590/590 [==============================] - 31s 52ms/step - loss: 0.0132 - accuracy: 0.9957 - val_loss: 0.0162 - val_accuracy: 0.9967 - lr: 1.0775e-05\n",
      "Epoch 45/50\n",
      "590/590 [==============================] - 31s 53ms/step - loss: 0.0116 - accuracy: 0.9963 - val_loss: 0.0164 - val_accuracy: 0.9969 - lr: 9.6977e-06\n",
      "Epoch 46/50\n",
      "590/590 [==============================] - 31s 53ms/step - loss: 0.0136 - accuracy: 0.9957 - val_loss: 0.0166 - val_accuracy: 0.9967 - lr: 8.7280e-06\n",
      "Epoch 47/50\n",
      "590/590 [==============================] - 31s 52ms/step - loss: 0.0131 - accuracy: 0.9957 - val_loss: 0.0163 - val_accuracy: 0.9967 - lr: 7.8552e-06\n",
      "Epoch 48/50\n",
      "590/590 [==============================] - 31s 52ms/step - loss: 0.0122 - accuracy: 0.9963 - val_loss: 0.0165 - val_accuracy: 0.9964 - lr: 7.0697e-06\n",
      "Epoch 49/50\n",
      "590/590 [==============================] - 31s 52ms/step - loss: 0.0126 - accuracy: 0.9963 - val_loss: 0.0162 - val_accuracy: 0.9964 - lr: 6.3627e-06\n",
      "Epoch 50/50\n",
      "590/590 [==============================] - 31s 52ms/step - loss: 0.0133 - accuracy: 0.9958 - val_loss: 0.0163 - val_accuracy: 0.9964 - lr: 5.7264e-06\n"
     ]
    }
   ],
   "source": [
    "batch_size = 64\n",
    "epochs = 50\n",
    "history = model.fit(datagen.flow(x_train,y_train,batch_size=batch_size),epochs=epochs,\n",
    "validation_data=(x_test,y_test),verbose=1,steps_per_epoch=x_train.shape[0]//batch_size,callbacks=[reduce_lr])"
   ]
  }
 ],
 "metadata": {
  "kernelspec": {
   "display_name": "Python 3",
   "language": "python",
   "name": "python3"
  },
  "language_info": {
   "codemirror_mode": {
    "name": "ipython",
    "version": 3
   },
   "file_extension": ".py",
   "mimetype": "text/x-python",
   "name": "python",
   "nbconvert_exporter": "python",
   "pygments_lexer": "ipython3",
   "version": "3.11.3"
  }
 },
 "nbformat": 4,
 "nbformat_minor": 2
}
