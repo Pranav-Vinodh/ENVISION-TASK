{
 "cells": [
  {
   "cell_type": "code",
   "execution_count": 56,
   "metadata": {},
   "outputs": [],
   "source": [
    "import pandas as pd\n",
    "import numpy as np\n",
    "import matplotlib as mplt\n",
    "import keras \n",
    "\n",
    "from keras.preprocessing.image import ImageDataGenerator\n",
    "from keras.utils import to_categorical\n",
    "from keras.models import Sequential, load_model\n",
    "from keras.layers import Dense, Dropout, Flatten\n",
    "from keras.layers import Conv2D, MaxPooling2D, BatchNormalization\n",
    "from keras.optimizers import Adam\n",
    "from keras.callbacks import LearningRateScheduler\n",
    "from keras.callbacks import EarlyStopping"
   ]
  },
  {
   "cell_type": "code",
   "execution_count": 57,
   "metadata": {},
   "outputs": [],
   "source": [
    "test_data = pd.read_csv(\"test.csv\")\n",
    "train_data = pd.read_csv(\"train.csv\")"
   ]
  },
  {
   "cell_type": "code",
   "execution_count": 58,
   "metadata": {},
   "outputs": [],
   "source": [
    "x = train_data.iloc[:,1:]\n",
    "y = train_data.iloc[:,0]"
   ]
  },
  {
   "cell_type": "code",
   "execution_count": 59,
   "metadata": {},
   "outputs": [],
   "source": [
    "from sklearn.model_selection import train_test_split\n",
    "x_train , x_test , y_train , y_test =  train_test_split(x,y,test_size=0.1)"
   ]
  },
  {
   "cell_type": "code",
   "execution_count": 60,
   "metadata": {},
   "outputs": [],
   "source": [
    "x_train = x_train.values.reshape(-1,28,28,1)\n",
    "x_test = x_test.values.reshape(-1,28,28,1)"
   ]
  },
  {
   "cell_type": "code",
   "execution_count": 61,
   "metadata": {},
   "outputs": [],
   "source": [
    "datagen = ImageDataGenerator(\n",
    "            featurewise_center=False,  # set input mean to 0 over the dataset\n",
    "            samplewise_center=False,  # set each sample mean to 0\n",
    "            featurewise_std_normalization=False,  # divide inputs by std of the dataset\n",
    "            samplewise_std_normalization=False,  # divide each input by its std\n",
    "            zca_whitening=False,  # apply ZCA whitening\n",
    "            rotation_range=10,  # randomly rotate images in the range (degrees, 0 to 180)\n",
    "            zoom_range = 0.1, # Randomly zoom image \n",
    "            width_shift_range=0.1,  # randomly shift images horizontally (fraction of total width)\n",
    "            height_shift_range=0.1,  # randomly shift images vertically (fraction of total height)\n",
    "            horizontal_flip=False,  # randomly flip images\n",
    "            vertical_flip=False)  # randomly flip images"
   ]
  },
  {
   "cell_type": "code",
   "execution_count": 62,
   "metadata": {},
   "outputs": [],
   "source": [
    "x_train = x_train.astype(\"float32\")/255\n",
    "x_test = x_test.astype(\"float32\")/255\n",
    "datagen.fit(x_train)"
   ]
  },
  {
   "cell_type": "code",
   "execution_count": 63,
   "metadata": {},
   "outputs": [],
   "source": [
    "y_train = to_categorical(y_train, num_classes=10)\n",
    "y_test = to_categorical(y_test, num_classes=10)"
   ]
  },
  {
   "cell_type": "code",
   "execution_count": 64,
   "metadata": {},
   "outputs": [],
   "source": [
    "model = Sequential()\n",
    "model.add(Conv2D(filters = 8,activation='relu',strides=1,padding = 'same', kernel_size=(5,5),data_format='channels_last',input_shape =(28,28,1)))\n",
    "model.add(BatchNormalization())\n",
    "model.add(Conv2D(filters = 8,activation='relu',strides=1,padding='same',kernel_size=(5,5),data_format='channels_last'))\n",
    "model.add(BatchNormalization())\n",
    "model.add(MaxPooling2D(strides=2,pool_size=(3,3),padding='valid'))\n",
    "model.add(Dropout(0.25))          \n",
    "\n",
    "model.add(Conv2D(filters = 16,activation = 'relu',strides=1,padding='same',kernel_size=(5,5),data_format='channels_last'))\n",
    "model.add(BatchNormalization())\n",
    "model.add(Conv2D(filters = 16,activation = 'relu',strides=1,padding='same',kernel_size=(5,5),data_format='channels_last'))\n",
    "model.add(BatchNormalization())\n",
    "model.add(MaxPooling2D(strides=2,pool_size=(3,3),padding='valid'))\n",
    "model.add(Dropout(0.25))\n",
    "\n",
    "model.add(Flatten())\n",
    "model.add(Dense(512,activation='relu'))\n",
    "model.add(BatchNormalization())\n",
    "model.add(Dropout(0.25))\n",
    "model.add(Dense(1024,activation='relu'))\n",
    "model.add(BatchNormalization())\n",
    "model.add(Dropout(0.5))\n",
    "model.add(Dense(10,activation='softmax'))"
   ]
  },
  {
   "cell_type": "code",
   "execution_count": 65,
   "metadata": {},
   "outputs": [],
   "source": [
    "optimizer = Adam(learning_rate=0.001, beta_1=0.9, beta_2=0.999 )"
   ]
  },
  {
   "cell_type": "code",
   "execution_count": 66,
   "metadata": {},
   "outputs": [],
   "source": [
    "model.compile(optimizer=optimizer,loss=\"categorical_crossentropy\",metrics=[\"accuracy\"])"
   ]
  },
  {
   "cell_type": "code",
   "execution_count": 67,
   "metadata": {},
   "outputs": [],
   "source": [
    "reduce_lr = LearningRateScheduler(lambda x: 1e-3 * 0.9 ** x)"
   ]
  },
  {
   "cell_type": "code",
   "execution_count": 68,
   "metadata": {},
   "outputs": [
    {
     "name": "stdout",
     "output_type": "stream",
     "text": [
      "Epoch 1/40\n",
      "295/295 [==============================] - 14s 39ms/step - loss: 0.5899 - accuracy: 0.8279 - val_loss: 3.5775 - val_accuracy: 0.2890 - lr: 0.0010\n",
      "Epoch 2/40\n",
      "295/295 [==============================] - 12s 41ms/step - loss: 0.1850 - accuracy: 0.9436 - val_loss: 0.0468 - val_accuracy: 0.9833 - lr: 9.0000e-04\n",
      "Epoch 3/40\n",
      "295/295 [==============================] - 12s 40ms/step - loss: 0.1375 - accuracy: 0.9569 - val_loss: 0.0433 - val_accuracy: 0.9864 - lr: 8.1000e-04\n",
      "Epoch 4/40\n",
      "295/295 [==============================] - 12s 39ms/step - loss: 0.1091 - accuracy: 0.9663 - val_loss: 0.0322 - val_accuracy: 0.9890 - lr: 7.2900e-04\n",
      "Epoch 5/40\n",
      "295/295 [==============================] - 12s 39ms/step - loss: 0.0915 - accuracy: 0.9725 - val_loss: 0.0318 - val_accuracy: 0.9895 - lr: 6.5610e-04\n",
      "Epoch 6/40\n",
      "295/295 [==============================] - 12s 39ms/step - loss: 0.0811 - accuracy: 0.9745 - val_loss: 0.0334 - val_accuracy: 0.9881 - lr: 5.9049e-04\n",
      "Epoch 7/40\n",
      "295/295 [==============================] - 11s 39ms/step - loss: 0.0770 - accuracy: 0.9761 - val_loss: 0.0227 - val_accuracy: 0.9926 - lr: 5.3144e-04\n",
      "Epoch 8/40\n",
      "295/295 [==============================] - 12s 40ms/step - loss: 0.0692 - accuracy: 0.9786 - val_loss: 0.0217 - val_accuracy: 0.9924 - lr: 4.7830e-04\n",
      "Epoch 9/40\n",
      "295/295 [==============================] - 11s 39ms/step - loss: 0.0645 - accuracy: 0.9803 - val_loss: 0.0262 - val_accuracy: 0.9919 - lr: 4.3047e-04\n",
      "Epoch 10/40\n",
      "295/295 [==============================] - 12s 39ms/step - loss: 0.0606 - accuracy: 0.9815 - val_loss: 0.0211 - val_accuracy: 0.9926 - lr: 3.8742e-04\n",
      "Epoch 11/40\n",
      "295/295 [==============================] - 12s 39ms/step - loss: 0.0593 - accuracy: 0.9822 - val_loss: 0.0263 - val_accuracy: 0.9924 - lr: 3.4868e-04\n",
      "Epoch 12/40\n",
      "295/295 [==============================] - 12s 39ms/step - loss: 0.0560 - accuracy: 0.9825 - val_loss: 0.0221 - val_accuracy: 0.9926 - lr: 3.1381e-04\n",
      "Epoch 13/40\n",
      "295/295 [==============================] - 12s 39ms/step - loss: 0.0531 - accuracy: 0.9836 - val_loss: 0.0230 - val_accuracy: 0.9931 - lr: 2.8243e-04\n",
      "Epoch 14/40\n",
      "295/295 [==============================] - 11s 39ms/step - loss: 0.0493 - accuracy: 0.9847 - val_loss: 0.0189 - val_accuracy: 0.9945 - lr: 2.5419e-04\n",
      "Epoch 15/40\n",
      "295/295 [==============================] - 12s 39ms/step - loss: 0.0475 - accuracy: 0.9853 - val_loss: 0.0167 - val_accuracy: 0.9933 - lr: 2.2877e-04\n",
      "Epoch 16/40\n",
      "295/295 [==============================] - 12s 39ms/step - loss: 0.0482 - accuracy: 0.9848 - val_loss: 0.0183 - val_accuracy: 0.9938 - lr: 2.0589e-04\n",
      "Epoch 17/40\n",
      "295/295 [==============================] - 11s 39ms/step - loss: 0.0446 - accuracy: 0.9859 - val_loss: 0.0188 - val_accuracy: 0.9950 - lr: 1.8530e-04\n",
      "Epoch 18/40\n",
      "295/295 [==============================] - 11s 39ms/step - loss: 0.0435 - accuracy: 0.9867 - val_loss: 0.0170 - val_accuracy: 0.9943 - lr: 1.6677e-04\n",
      "Epoch 19/40\n",
      "295/295 [==============================] - 12s 39ms/step - loss: 0.0403 - accuracy: 0.9878 - val_loss: 0.0151 - val_accuracy: 0.9955 - lr: 1.5009e-04\n",
      "Epoch 20/40\n",
      "295/295 [==============================] - 12s 39ms/step - loss: 0.0378 - accuracy: 0.9886 - val_loss: 0.0179 - val_accuracy: 0.9940 - lr: 1.3509e-04\n",
      "Epoch 21/40\n",
      "295/295 [==============================] - 11s 39ms/step - loss: 0.0382 - accuracy: 0.9875 - val_loss: 0.0134 - val_accuracy: 0.9952 - lr: 1.2158e-04\n",
      "Epoch 22/40\n",
      "295/295 [==============================] - 12s 39ms/step - loss: 0.0382 - accuracy: 0.9877 - val_loss: 0.0130 - val_accuracy: 0.9948 - lr: 1.0942e-04\n",
      "Epoch 23/40\n",
      "295/295 [==============================] - 11s 39ms/step - loss: 0.0376 - accuracy: 0.9882 - val_loss: 0.0158 - val_accuracy: 0.9950 - lr: 9.8477e-05\n",
      "Epoch 24/40\n",
      "295/295 [==============================] - 12s 40ms/step - loss: 0.0372 - accuracy: 0.9886 - val_loss: 0.0139 - val_accuracy: 0.9955 - lr: 8.8629e-05\n",
      "Epoch 25/40\n",
      "295/295 [==============================] - 12s 39ms/step - loss: 0.0335 - accuracy: 0.9896 - val_loss: 0.0138 - val_accuracy: 0.9952 - lr: 7.9766e-05\n",
      "Epoch 26/40\n",
      "295/295 [==============================] - 12s 40ms/step - loss: 0.0354 - accuracy: 0.9884 - val_loss: 0.0140 - val_accuracy: 0.9950 - lr: 7.1790e-05\n",
      "Epoch 27/40\n",
      "295/295 [==============================] - 12s 40ms/step - loss: 0.0342 - accuracy: 0.9891 - val_loss: 0.0143 - val_accuracy: 0.9955 - lr: 6.4611e-05\n",
      "Epoch 28/40\n",
      "295/295 [==============================] - 12s 40ms/step - loss: 0.0330 - accuracy: 0.9896 - val_loss: 0.0128 - val_accuracy: 0.9964 - lr: 5.8150e-05\n",
      "Epoch 29/40\n",
      "295/295 [==============================] - 12s 39ms/step - loss: 0.0326 - accuracy: 0.9901 - val_loss: 0.0141 - val_accuracy: 0.9957 - lr: 5.2335e-05\n",
      "Epoch 30/40\n",
      "295/295 [==============================] - 12s 39ms/step - loss: 0.0327 - accuracy: 0.9892 - val_loss: 0.0125 - val_accuracy: 0.9962 - lr: 4.7101e-05\n",
      "Epoch 31/40\n",
      "295/295 [==============================] - 12s 39ms/step - loss: 0.0359 - accuracy: 0.9888 - val_loss: 0.0124 - val_accuracy: 0.9960 - lr: 4.2391e-05\n",
      "Epoch 32/40\n",
      "295/295 [==============================] - 12s 39ms/step - loss: 0.0317 - accuracy: 0.9898 - val_loss: 0.0125 - val_accuracy: 0.9957 - lr: 3.8152e-05\n",
      "Epoch 33/40\n",
      "295/295 [==============================] - 12s 39ms/step - loss: 0.0314 - accuracy: 0.9900 - val_loss: 0.0132 - val_accuracy: 0.9955 - lr: 3.4337e-05\n",
      "Epoch 34/40\n",
      "295/295 [==============================] - 13s 43ms/step - loss: 0.0337 - accuracy: 0.9891 - val_loss: 0.0129 - val_accuracy: 0.9955 - lr: 3.0903e-05\n",
      "Epoch 35/40\n",
      "295/295 [==============================] - 13s 43ms/step - loss: 0.0323 - accuracy: 0.9903 - val_loss: 0.0123 - val_accuracy: 0.9957 - lr: 2.7813e-05\n",
      "Epoch 36/40\n",
      "295/295 [==============================] - 12s 39ms/step - loss: 0.0304 - accuracy: 0.9902 - val_loss: 0.0124 - val_accuracy: 0.9955 - lr: 2.5032e-05\n",
      "Epoch 37/40\n",
      "295/295 [==============================] - 12s 41ms/step - loss: 0.0318 - accuracy: 0.9900 - val_loss: 0.0124 - val_accuracy: 0.9955 - lr: 2.2528e-05\n",
      "Epoch 38/40\n",
      "295/295 [==============================] - 12s 39ms/step - loss: 0.0307 - accuracy: 0.9905 - val_loss: 0.0121 - val_accuracy: 0.9955 - lr: 2.0276e-05\n",
      "Epoch 39/40\n",
      "295/295 [==============================] - 12s 41ms/step - loss: 0.0324 - accuracy: 0.9897 - val_loss: 0.0124 - val_accuracy: 0.9957 - lr: 1.8248e-05\n",
      "Epoch 40/40\n",
      "295/295 [==============================] - 12s 39ms/step - loss: 0.0293 - accuracy: 0.9907 - val_loss: 0.0124 - val_accuracy: 0.9955 - lr: 1.6423e-05\n"
     ]
    }
   ],
   "source": [
    "batch_size = 128\n",
    "epochs = 40\n",
    "history = model.fit(datagen.flow(x_train,y_train,batch_size=batch_size),epochs=epochs,\n",
    "validation_data=(x_test,y_test),verbose=1,steps_per_epoch=x_train.shape[0]//batch_size,callbacks=[reduce_lr])"
   ]
  }
 ],
 "metadata": {
  "kernelspec": {
   "display_name": "Python 3",
   "language": "python",
   "name": "python3"
  },
  "language_info": {
   "codemirror_mode": {
    "name": "ipython",
    "version": 3
   },
   "file_extension": ".py",
   "mimetype": "text/x-python",
   "name": "python",
   "nbconvert_exporter": "python",
   "pygments_lexer": "ipython3",
   "version": "3.11.3"
  }
 },
 "nbformat": 4,
 "nbformat_minor": 2
}
